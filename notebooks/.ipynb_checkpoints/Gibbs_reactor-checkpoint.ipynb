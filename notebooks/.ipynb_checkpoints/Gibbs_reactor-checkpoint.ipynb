{
 "cells": [
  {
   "cell_type": "markdown",
   "metadata": {},
   "source": [
    "# Equation solving with JuMP\n",
    "## Simple Reaction Equilibrium\n",
    "\n",
    "We can use JuMP to solve nonlinear equations with physical constraints (e.g. positive mass)\n",
    "\n",
    "$$\n",
    "CO + 2H_2 => CH_3OH \n",
    "$$\n",
    "\n",
    "The condition for chemical equilibrium of gases is given by:\n",
    "$$\n",
    "\\begin{align}\n",
    "Keq = & \\frac{p_{CH_3OH}}{p_{CO} \\ p_{H_2}^2}\\\\\n",
    "= & \\frac{y_{CH_3OH}}{y_{CO} \\ y_{H_2}^2 P_{total}^2}\n",
    "\\end{align}\n",
    "$$\n",
    "\n",
    "We can write this condition as a set of equations in terms of molar flow rates to solve for the extent of reaction at equilibrium.\n",
    "\n",
    "Assuming we input 100 kmol/hr of CO and 600 kmol/hr of H2 into our reactor, we get:\n",
    "\n",
    "$$\n",
    "\\begin{align}\n",
    "Keq = & \\ \\ \\mu_{out,total}^2\\frac{\\mu_{out,CH_3OH}}{\\mu_{out,CO} \\ \\mu_{out,H_2}^2}\\\\\n",
    "& \\mu_{in,k} \\ge 0 \\ \\ \\forall k \\in \\{CO,H_2,CH_3OH\\}\\\\\n",
    "& \\mu_{out,k} \\ge 0 \\ \\ \\forall k \\in \\{CO,H_2,CH_3OH\\}\\\\\n",
    "& \\mu_{out,total} \\ge 0 \\\\\n",
    "& \\mu_{out,CO} = μ_{in,CO} - 100\\xi \\\\\n",
    "& \\mu_{out,H_2} = μ_{in,H_2} - 2*100\\xi \\\\\n",
    "& \\mu_{out,CH_3OH} = 100\\xi \\\\\n",
    "& \\mu_{out,total} = \\sum_{k \\in \\{CO,H_2,CH_3OH\\}} \\mu_{out,k}\\\\\n",
    "& 0 \\le \\xi \\le 1\n",
    "\\end{align}\n",
    "$$\n"
   ]
  },
  {
   "cell_type": "code",
   "execution_count": 12,
   "metadata": {},
   "outputs": [],
   "source": [
    "# call libraries to be used\n",
    "using JuMP\n",
    "using Ipopt\n",
    "\n",
    "# define algebraic model\n",
    "m = Model(solver=IpoptSolver());"
   ]
  },
  {
   "cell_type": "code",
   "execution_count": 13,
   "metadata": {},
   "outputs": [],
   "source": [
    "# define sets and variables\n",
    "K = [\"CO\",\"H2\",\"CH3OH\"]; # set of components\n",
    "\n",
    "# define variables\n",
    "@variable(m, μ_in[K]>=0)    # inlet molar flows (kmol/hr)\n",
    "@variable(m, μ_out[K]>=0)   # outlet molar flows (kmol/hr)\n",
    "@variable(m, μ_out_tot>=0)  # total outlet flow\n",
    "@variable(m,0<=ξ<=1)        # extent of reactor [-]\n",
    "@variable(m,P==150);         # reactor pressure [bar]\n"
   ]
  },
  {
   "cell_type": "code",
   "execution_count": 14,
   "metadata": {},
   "outputs": [],
   "source": [
    "# define reaction data\n",
    "T=300+273.15\n",
    "Keq=10^(-12.275+4938/T) # reaction equilibrium @ 300 degC \n",
    "\n",
    "# Gibbs equilibrium condition\n",
    "@constraint(m, μ_in[\"CO\"] == 100)\n",
    "@constraint(m, μ_in[\"H2\"] == 600)\n",
    "@constraint(m, μ_in[\"CH3OH\"]== 0)\n",
    "@constraint(m, μ_out[\"CO\"]==μ_in[\"CO\"]-100*ξ)\n",
    "@constraint(m, μ_out[\"H2\"]==μ_in[\"H2\"]-2*100*ξ)\n",
    "@constraint(m, μ_out[\"CH3OH\"]==100*ξ)\n",
    "@constraint(m, μ_out_tot==sum(μ_out[k] for k in K))\n",
    "\n",
    "#Equilibrium condition\n",
    "@NLconstraint(m, \n",
    "(μ_out[\"CH3OH\"]/μ_out_tot)/(μ_out[\"CO\"]*μ_out[\"H2\"]*μ_out[\"H2\"]/(μ_out_tot*μ_out_tot*μ_out_tot))== (P^2)*Keq);"
   ]
  },
  {
   "cell_type": "code",
   "execution_count": 15,
   "metadata": {},
   "outputs": [
    {
     "name": "stdout",
     "output_type": "stream",
     "text": [
      "This is Ipopt version trunk, running with linear solver ma27.\n",
      "\n",
      "Number of nonzeros in equality constraint Jacobian...:       19\n",
      "Number of nonzeros in inequality constraint Jacobian.:        0\n",
      "Number of nonzeros in Lagrangian Hessian.............:       10\n",
      "\n",
      "Total number of variables............................:        8\n",
      "                     variables with only lower bounds:        7\n",
      "                variables with lower and upper bounds:        1\n",
      "                     variables with only upper bounds:        0\n",
      "Total number of equality constraints.................:        8\n",
      "Total number of inequality constraints...............:        0\n",
      "        inequality constraints with only lower bounds:        0\n",
      "   inequality constraints with lower and upper bounds:        0\n",
      "        inequality constraints with only upper bounds:        0\n",
      "\n",
      "iter    objective    inf_pr   inf_du lg(mu)  ||d||  lg(rg) alpha_du alpha_pr  ls\n",
      "   0  0.0000000e+00 6.00e+02 1.00e+00  -1.0 0.00e+00    -  0.00e+00 0.00e+00   0\n",
      "   1  0.0000000e+00 6.00e+02 7.92e+01  -1.0 8.00e+02    -  1.24e-05 1.98e-04f  1\n",
      "   2  0.0000000e+00 6.00e+00 3.12e+03  -1.0 6.99e+02    -  2.13e-04 9.90e-01f  1\n",
      "   3  0.0000000e+00 1.50e+02 1.43e+06  -1.0 7.04e+02    -  1.05e-03 2.76e-01f  1\n",
      "   4  0.0000000e+00 7.43e+01 7.31e+05  -1.0 5.52e+00    -  5.83e-01 9.90e-01h  1\n",
      "   5  0.0000000e+00 3.55e+01 3.64e+05  -1.0 3.57e+00    -  1.00e+00 1.00e+00h  1\n",
      "   6  0.0000000e+00 1.62e+01 2.23e+06  -1.0 6.21e+00    -  7.73e-01 1.00e+00h  1\n",
      "   7  0.0000000e+00 6.72e+00 8.60e+04  -1.0 9.60e+00    -  1.00e+00 1.00e+00h  1\n",
      "   8  0.0000000e+00 2.25e+00 3.70e+04  -1.0 1.16e+01    -  1.00e+00 1.00e+00h  1\n",
      "   9  0.0000000e+00 4.57e-01 1.14e+04  -1.0 8.80e+00    -  1.00e+00 1.00e+00h  1\n",
      "iter    objective    inf_pr   inf_du lg(mu)  ||d||  lg(rg) alpha_du alpha_pr  ls\n",
      "  10  0.0000000e+00 2.80e-02 1.26e+03  -1.7 2.81e+00    -  1.00e+00 1.00e+00h  1\n",
      "  11  0.0000000e+00 1.19e-04 1.06e+01  -1.7 1.96e-01    -  1.00e+00 1.00e+00h  1\n",
      "  12  0.0000000e+00 2.16e-09 3.84e-04  -3.8 8.38e-04    -  1.00e+00 1.00e+00h  1\n",
      "\n",
      "Number of Iterations....: 12\n",
      "\n",
      "                                   (scaled)                 (unscaled)\n",
      "Objective...............:   0.0000000000000000e+00    0.0000000000000000e+00\n",
      "Dual infeasibility......:   0.0000000000000000e+00    0.0000000000000000e+00\n",
      "Constraint violation....:   2.1630448543419334e-09    2.1630448543419334e-09\n",
      "Complementarity.........:   0.0000000000000000e+00    0.0000000000000000e+00\n",
      "Overall NLP error.......:   2.1630448543419334e-09    2.1630448543419334e-09\n",
      "\n",
      "\n",
      "Number of objective function evaluations             = 13\n",
      "Number of objective gradient evaluations             = 13\n",
      "Number of equality constraint evaluations            = 13\n",
      "Number of inequality constraint evaluations          = 0\n",
      "Number of equality constraint Jacobian evaluations   = 13\n",
      "Number of inequality constraint Jacobian evaluations = 0\n",
      "Number of Lagrangian Hessian evaluations             = 12\n",
      "Total CPU secs in IPOPT (w/o function evaluations)   =      0.004\n",
      "Total CPU secs in NLP function evaluations           =      0.000\n",
      "\n",
      "EXIT: Optimal Solution Found.\n"
     ]
    },
    {
     "data": {
      "text/plain": [
       ":Optimal"
      ]
     },
     "execution_count": 15,
     "metadata": {},
     "output_type": "execute_result"
    }
   ],
   "source": [
    "solve(m)"
   ]
  },
  {
   "cell_type": "markdown",
   "metadata": {
    "collapsed": true
   },
   "source": [
    "## Look at the resulting extent and moles"
   ]
  },
  {
   "cell_type": "code",
   "execution_count": 16,
   "metadata": {},
   "outputs": [
    {
     "name": "stdout",
     "output_type": "stream",
     "text": [
      "reaction extent = 0.7669148048452934\n",
      "kmols/hr of CH3OH produced = 76.69148048452935kmols/hr\n"
     ]
    }
   ],
   "source": [
    "println(\"reaction extent = \",getvalue(ξ))\n",
    "println(\"kmols/hr of CH3OH produced = \",getvalue(μ_out[\"CH3OH\"]), \"kmols/hr\")"
   ]
  },
  {
   "cell_type": "code",
   "execution_count": null,
   "metadata": {
    "collapsed": true
   },
   "outputs": [],
   "source": []
  }
 ],
 "metadata": {
  "kernelspec": {
   "display_name": "Julia 0.6.0",
   "language": "julia",
   "name": "julia-0.6"
  },
  "language_info": {
   "file_extension": ".jl",
   "mimetype": "application/julia",
   "name": "julia",
   "version": "0.6.0"
  }
 },
 "nbformat": 4,
 "nbformat_minor": 2
}
