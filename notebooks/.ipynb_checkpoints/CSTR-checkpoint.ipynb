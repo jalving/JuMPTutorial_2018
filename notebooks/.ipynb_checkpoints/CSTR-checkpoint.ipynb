{
 "cells": [
  {
   "cell_type": "code",
   "execution_count": 1,
   "metadata": {
    "collapsed": true
   },
   "outputs": [],
   "source": [
    "using JuMP\n",
    "using Ipopt"
   ]
  },
  {
   "cell_type": "code",
   "execution_count": 5,
   "metadata": {
    "collapsed": true
   },
   "outputs": [],
   "source": [
    "# Model \n",
    "m = Model(solver=IpoptSolver())\n",
    "\n",
    "Cai=15\n",
    "Ti=20\n",
    "Tci=15\n",
    "rol= 800.8\n",
    "cel=0.968\n",
    "ror=1041.1\n",
    "cer=1.291\n",
    "U=6129\n",
    "Ea=6867.36\n",
    "R=8.314\n",
    "Beta=5.967\n",
    "H=69710.5\n",
    "V=38.3\n",
    "A=24\n",
    "\n",
    "@variable(m,  0.5 <= q <= 15, start= 2.83)    \n",
    "@variable(m, 20 <= T <= 200, start = 73.3)\n",
    "@variable(m, 10 <= Tc <= 69, start =63.31)\n",
    "@variable(m, 0.9 <= Ca <= 16, start = 1.866)\n",
    "@variable(m, 5 <= Cb <= 30, start = 13.1339)\n",
    "@variable(m, 20 <= F <= 600, start = 450)\n",
    "@variable(m, 0.7 <= x <= 0.9, start = 0.87) \n",
    "@variable(m, k, start = 0.54) \n",
    "\n",
    "@NLconstraint(m, balca, q*(Cai - Ca) - V*k*Ca == 0) \n",
    "@NLconstraint(m, balcb, V*k*Ca -q*Cb == 0) \n",
    "@NLconstraint(m, balcT, q*rol*cel*(Ti - T) + V*k*Ca*H - (U*A)*(T- Tc) == 0) \n",
    "@NLconstraint(m, balcTc, F*ror*cer*(Tci - Tc) + U*A*(T - Tc) == 0) \n",
    "@NLconstraint(m, arrhenius, k - Beta*exp(-Ea/(R*(T+273.15))) == 0) \n",
    "@NLconstraint(m, conv, Ca - Cai*(1-x) == 0) \n",
    "@constraint(m, approach, T - Tc >= 5) \n",
    "@constraint(m, restime1, V <= 25*q) \n",
    "@constraint(m, restime2, 15*q <= V) \n",
    "\n",
    "@NLobjective(m, Max, 100*q*Cb - 80*q*Cai)"
   ]
  },
  {
   "cell_type": "code",
   "execution_count": 6,
   "metadata": {},
   "outputs": [
    {
     "name": "stdout",
     "output_type": "stream",
     "text": [
      "\n",
      "******************************************************************************\n",
      "This program contains Ipopt, a library for large-scale nonlinear optimization.\n",
      " Ipopt is released as open source code under the Eclipse Public License (EPL).\n",
      "         For more information visit http://projects.coin-or.org/Ipopt\n",
      "******************************************************************************\n",
      "\n",
      "This is Ipopt version trunk, running with linear solver ma27.\n",
      "\n",
      "Number of nonzeros in equality constraint Jacobian...:       19\n",
      "Number of nonzeros in inequality constraint Jacobian.:        4\n",
      "Number of nonzeros in Lagrangian Hessian.............:       24\n",
      "\n",
      "Total number of variables............................:        8\n",
      "                     variables with only lower bounds:        0\n",
      "                variables with lower and upper bounds:        7\n",
      "                     variables with only upper bounds:        0\n",
      "Total number of equality constraints.................:        6\n",
      "Total number of inequality constraints...............:        3\n",
      "        inequality constraints with only lower bounds:        1\n",
      "   inequality constraints with lower and upper bounds:        0\n",
      "        inequality constraints with only upper bounds:        2\n",
      "\n",
      "iter    objective    inf_pr   inf_du lg(mu)  ||d||  lg(rg) alpha_du alpha_pr  ls\n",
      "   0 -3.2089370e+02 2.77e+07 1.83e-01  -1.0 0.00e+00    -  0.00e+00 0.00e+00   0\n",
      "   1 -2.6858547e+02 4.45e+06 4.01e+00  -1.0 9.69e+01    -  1.42e-01 1.00e+00h  1\n",
      "   2 -2.3296553e+02 3.06e+05 1.41e+00  -1.0 2.20e+01    -  4.51e-01 1.00e+00h  1\n",
      "   3 -2.4691220e+02 4.16e+03 6.69e+00  -1.0 1.02e+01    -  9.75e-01 1.00e+00f  1\n",
      "   4 -2.5657096e+02 1.71e+06 5.51e+00  -1.0 1.97e+03    -  1.04e-01 1.77e-01f  1\n",
      "   5 -2.6701104e+02 1.69e+06 5.40e+00  -1.0 1.88e+02    -  6.84e-02 2.30e-02f  1\n",
      "   6 -3.0714563e+02 1.54e+06 4.95e+00  -1.0 2.04e+02    -  9.20e-02 8.85e-02f  1\n",
      "   7 -3.3019556e+02 1.34e+06 9.62e+00  -1.0 5.78e+01    -  1.00e+00 1.30e-01f  1\n",
      "   8 -3.8233133e+02 8.34e+05 2.04e+01  -1.0 4.92e+01    -  8.35e-01 3.78e-01f  1\n",
      "   9 -3.8285187e+02 8.26e+05 3.94e+02  -1.0 2.74e+01    -  8.20e-02 9.22e-03h  1\n",
      "iter    objective    inf_pr   inf_du lg(mu)  ||d||  lg(rg) alpha_du alpha_pr  ls\n",
      "  10 -3.8269145e+02 7.50e+05 6.21e+02  -1.0 1.07e+01    -  3.96e-02 9.16e-02f  1\n",
      "  11 -3.7769259e+02 3.52e+03 5.82e+03  -1.0 1.02e+01    -  4.26e-02 1.00e+00h  1\n",
      "  12 -3.7810980e+02 4.06e+00 4.38e-01  -1.0 1.73e-01    -  1.00e+00 1.00e+00h  1\n",
      "  13 -3.7841535e+02 1.65e+00 2.22e-02  -1.7 1.33e-01    -  1.00e+00 1.00e+00f  1\n",
      "  14 -3.7854979e+02 7.40e-01 1.26e-03  -2.5 1.04e-01    -  1.00e+00 1.00e+00f  1\n",
      "  15 -3.7856844e+02 1.37e-02 4.11e-05  -3.8 1.16e-02    -  1.00e+00 1.00e+00h  1\n",
      "  16 -3.7856937e+02 3.23e-05 1.09e-07  -5.7 5.47e-04    -  1.00e+00 1.00e+00h  1\n",
      "  17 -3.7856938e+02 3.73e-09 1.52e-11  -8.6 5.72e-06    -  1.00e+00 1.00e+00h  1\n",
      "\n",
      "Number of Iterations....: 17\n",
      "\n",
      "                                   (scaled)                 (unscaled)\n",
      "Objective...............:  -1.3377010046322397e+02   -3.7856938431092379e+02\n",
      "Dual infeasibility......:   1.5177192835835740e-11    4.2951455725415145e-11\n",
      "Constraint violation....:   4.9543504793923624e-13    3.7252902984619141e-09\n",
      "Complementarity.........:   2.5199886456135494e-09    7.1315678670863446e-09\n",
      "Overall NLP error.......:   2.5199886456135494e-09    7.1315678670863446e-09\n",
      "\n",
      "\n",
      "Number of objective function evaluations             = 18\n",
      "Number of objective gradient evaluations             = 18\n",
      "Number of equality constraint evaluations            = 18\n",
      "Number of inequality constraint evaluations          = 18\n",
      "Number of equality constraint Jacobian evaluations   = 18\n",
      "Number of inequality constraint Jacobian evaluations = 18\n",
      "Number of Lagrangian Hessian evaluations             = 17\n",
      "Total CPU secs in IPOPT (w/o function evaluations)   =      0.312\n",
      "Total CPU secs in NLP function evaluations           =      0.048\n",
      "\n",
      "EXIT: Optimal Solution Found.\n"
     ]
    },
    {
     "data": {
      "text/plain": [
       ":Optimal"
      ]
     },
     "execution_count": 6,
     "metadata": {},
     "output_type": "execute_result"
    }
   ],
   "source": [
    "solve(m)"
   ]
  },
  {
   "cell_type": "code",
   "execution_count": null,
   "metadata": {
    "collapsed": true
   },
   "outputs": [],
   "source": []
  }
 ],
 "metadata": {
  "kernelspec": {
   "display_name": "Julia 0.6.0",
   "language": "julia",
   "name": "julia-0.6"
  },
  "language_info": {
   "file_extension": ".jl",
   "mimetype": "application/julia",
   "name": "julia",
   "version": "0.6.0"
  }
 },
 "nbformat": 4,
 "nbformat_minor": 2
}
