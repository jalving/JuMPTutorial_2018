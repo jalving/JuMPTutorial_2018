{
 "cells": [
  {
   "cell_type": "markdown",
   "metadata": {},
   "source": [
    "# A Simple Nonlinear Optimization Problem"
   ]
  },
  {
   "cell_type": "markdown",
   "metadata": {},
   "source": [
    "$$\\min_{x_1,x_2} \\ \\ \\sum_{j\\in \\{1,2\\}}x_j^2$$\n",
    "$$s.t. \\ \\ \\sum_{j\\in \\{1,2\\} }x_j= 5$$\n",
    "$$e^{x_1} \\le 4$$\n"
   ]
  },
  {
   "cell_type": "markdown",
   "metadata": {},
   "source": [
    "## Import JuMP and Ipopt"
   ]
  },
  {
   "cell_type": "code",
   "execution_count": 1,
   "metadata": {
    "collapsed": true
   },
   "outputs": [],
   "source": [
    "using JuMP\n",
    "using Ipopt"
   ]
  },
  {
   "cell_type": "markdown",
   "metadata": {},
   "source": [
    "## Create the JuMP Model"
   ]
  },
  {
   "cell_type": "code",
   "execution_count": 2,
   "metadata": {},
   "outputs": [
    {
     "name": "stdout",
     "output_type": "stream",
     "text": [
      "Min x[1]² + x[2]²\n",
      "Subject to\n",
      " x[1] + x[2] = 5\n",
      " exp(x[1]) - 4.0 ≤ 0\n",
      " x[i] ∀ i ∈ {1,2}\n"
     ]
    }
   ],
   "source": [
    "m = Model(solver = IpoptSolver())\n",
    "S = collect(1:2)\n",
    "@variable(m,x[S])\n",
    "@constraint(m,sum(x[j] for j in S) == 5)\n",
    "@NLconstraint(m,exp(x[1]) <= 4)\n",
    "@objective(m,Min,sum(x[j]^2 for j in S))\n",
    "print(m)"
   ]
  },
  {
   "cell_type": "markdown",
   "metadata": {},
   "source": [
    "## Solve the Model"
   ]
  },
  {
   "cell_type": "code",
   "execution_count": 6,
   "metadata": {},
   "outputs": [
    {
     "name": "stdout",
     "output_type": "stream",
     "text": [
      "\n",
      "******************************************************************************\n",
      "This program contains Ipopt, a library for large-scale nonlinear optimization.\n",
      " Ipopt is released as open source code under the Eclipse Public License (EPL).\n",
      "         For more information visit http://projects.coin-or.org/Ipopt\n",
      "******************************************************************************\n",
      "\n",
      "This is Ipopt version 3.12.4, running with linear solver mumps.\n",
      "NOTE: Other linear solvers might be more efficient (see Ipopt documentation).\n",
      "\n",
      "Number of nonzeros in equality constraint Jacobian...:        2\n",
      "Number of nonzeros in inequality constraint Jacobian.:        1\n",
      "Number of nonzeros in Lagrangian Hessian.............:        3\n",
      "\n",
      "Total number of variables............................:        2\n",
      "                     variables with only lower bounds:        0\n",
      "                variables with lower and upper bounds:        0\n",
      "                     variables with only upper bounds:        0\n",
      "Total number of equality constraints.................:        1\n",
      "Total number of inequality constraints...............:        1\n",
      "        inequality constraints with only lower bounds:        0\n",
      "   inequality constraints with lower and upper bounds:        0\n",
      "        inequality constraints with only upper bounds:        1\n",
      "\n",
      "iter    objective    inf_pr   inf_du lg(mu)  ||d||  lg(rg) alpha_du alpha_pr  ls\n",
      "   0  0.0000000e+00 5.00e+00 3.33e-01  -1.0 0.00e+00    -  0.00e+00 0.00e+00   0\n",
      "   1  1.3013422e+01 3.34e+00 3.09e+00  -1.0 3.01e+00    -  1.00e+00 1.00e+00h  1\n",
      "   2  1.4224503e+01 8.14e-01 2.57e-01  -1.0 1.06e+00    -  1.00e+00 9.42e-01h  1\n",
      "   3  1.4928811e+01 4.71e-02 1.23e-01  -1.7 1.73e-01    -  1.00e+00 1.00e+00h  1\n",
      "   4  1.4982101e+01 0.00e+00 2.35e-03  -2.5 1.97e-02    -  1.00e+00 1.00e+00h  1\n",
      "   5  1.4980831e+01 0.00e+00 1.64e-07  -3.8 1.43e-03    -  1.00e+00 1.00e+00h  1\n",
      "   6  1.4980682e+01 0.00e+00 6.92e-09  -5.7 1.33e-04    -  1.00e+00 1.00e+00h  1\n",
      "   7  1.4980680e+01 0.00e+00 1.07e-12  -8.6 1.66e-06    -  1.00e+00 1.00e+00h  1\n",
      "\n",
      "Number of Iterations....: 7\n",
      "\n",
      "                                   (scaled)                 (unscaled)\n",
      "Objective...............:   1.4980680491516624e+01    1.4980680491516624e+01\n",
      "Dual infeasibility......:   1.0698109065288008e-12    1.0698109065288008e-12\n",
      "Constraint violation....:   0.0000000000000000e+00    0.0000000000000000e+00\n",
      "Complementarity.........:   2.5073597140697175e-09    2.5073597140697175e-09\n",
      "Overall NLP error.......:   2.5073597140697175e-09    2.5073597140697175e-09\n",
      "\n",
      "\n",
      "Number of objective function evaluations             = 8\n",
      "Number of objective gradient evaluations             = 8\n",
      "Number of equality constraint evaluations            = 8\n",
      "Number of inequality constraint evaluations          = 8\n",
      "Number of equality constraint Jacobian evaluations   = 8\n",
      "Number of inequality constraint Jacobian evaluations = 8\n",
      "Number of Lagrangian Hessian evaluations             = 7\n",
      "Total CPU secs in IPOPT (w/o function evaluations)   =      0.097\n",
      "Total CPU secs in NLP function evaluations           =      0.035\n",
      "\n",
      "EXIT: Optimal Solution Found.\n"
     ]
    },
    {
     "data": {
      "text/plain": [
       ":Optimal"
      ]
     },
     "execution_count": 6,
     "metadata": {},
     "output_type": "execute_result"
    }
   ],
   "source": [
    "solve(m)"
   ]
  },
  {
   "cell_type": "markdown",
   "metadata": {},
   "source": [
    "## Display solution"
   ]
  },
  {
   "cell_type": "code",
   "execution_count": 7,
   "metadata": {},
   "outputs": [
    {
     "name": "stdout",
     "output_type": "stream",
     "text": [
      "objective value: 14.980680491516624\n",
      "x: x: 1 dimensions:\n",
      "[1] = 1.3862943630571352\n",
      "[2] = 3.6137056369428646\n",
      "\n"
     ]
    }
   ],
   "source": [
    "println(\"objective value: \",getobjectivevalue(m))\n",
    "println(\"x: \",getvalue(x))"
   ]
  }
 ],
 "metadata": {
  "anaconda-cloud": {},
  "kernelspec": {
   "display_name": "Julia 0.6.0",
   "language": "julia",
   "name": "julia-0.6"
  },
  "language_info": {
   "file_extension": ".jl",
   "mimetype": "application/julia",
   "name": "julia",
   "version": "0.5.0"
  }
 },
 "nbformat": 4,
 "nbformat_minor": 2
}
