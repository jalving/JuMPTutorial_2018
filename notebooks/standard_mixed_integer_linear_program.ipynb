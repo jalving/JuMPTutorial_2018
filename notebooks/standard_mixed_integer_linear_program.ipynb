{
 "cells": [
  {
   "cell_type": "markdown",
   "metadata": {},
   "source": [
    "## Solving a standard form Mixed Integer Programming Problem\n",
    "\n",
    "Let us try to write the JuMP code for the following standard form optimization problem:\n",
    "\n",
    "$$\n",
    "\\begin{align}\n",
    "& \\text{minimize} && c^T x + d^T y\\\\\n",
    "& \\text{subject to} && A x + B y= f \\\\\n",
    " &                   && x \\succeq 0, y \\succeq 0 \\\\\n",
    " &                   && x \\in \\mathbb{R}^n, y \\in \\mathbb{Z}^p\n",
    "\\end{align}\n",
    "$$\n",
    "\n",
    "Here, $A \\in \\mathbb{R}^{m \\times n}, B \\in \\mathbb{R}^{m \\times p}, c \\in \\mathbb{R}^n, d \\in \\mathbb{R}^p, f \\in \\mathbb{R}^m$. The data were randomly generated. The symbol $\\succeq$ ($\\preceq$) stands for element-wise greater (less) than or equal to."
   ]
  },
  {
   "cell_type": "code",
   "execution_count": 3,
   "metadata": {},
   "outputs": [
    {
     "data": {
      "text/plain": [
       "3-element Array{Float64,1}:\n",
       " 0.1716\n",
       " 0.361 \n",
       " 0.0705"
      ]
     },
     "execution_count": 3,
     "metadata": {},
     "output_type": "execute_result"
    }
   ],
   "source": [
    "n = 5\n",
    "p = 4\n",
    "m = 3\n",
    "A=\n",
    "[0.7511 -0.1357   0.7955  -0.4567 0.1356\n",
    "-0.6670 -0.3326   0.1657  -0.5519 -0.9367\n",
    " 1.5894 -0.1302  -0.4313  -0.4875  0.4179]\n",
    "\n",
    "B=\n",
    "[-0.09520 -0.28056 -1.33978 0.6506\n",
    " -0.8581  -0.3518   1.2788  1.5114\n",
    " -0.5925  1.3477    0.1589  0.03495]\n",
    "\n",
    "c=[0.3468,0.8687,0.1200,0.5024,0.2884]\n",
    "\n",
    "d=[0.2017,0.2712,0.4997,0.9238]\n",
    "\n",
    "f = [0.1716,0.3610,0.0705]"
   ]
  },
  {
   "cell_type": "code",
   "execution_count": 4,
   "metadata": {},
   "outputs": [
    {
     "name": "stderr",
     "output_type": "stream",
     "text": [
      "\u001b[1m\u001b[36mINFO: \u001b[39m\u001b[22m\u001b[36mPrecompiling module GLPK.\n",
      "\u001b[39m\u001b[1m\u001b[91mERROR: \u001b[39m\u001b[22mLoadError: \u001b[91mGLPK not properly installed. Please run Pkg.build(\"GLPK\")\u001b[39m\n",
      "Stacktrace:\n",
      " [1] \u001b[1merror\u001b[22m\u001b[22m\u001b[1m(\u001b[22m\u001b[22m::String\u001b[1m)\u001b[22m\u001b[22m at \u001b[1m./error.jl:21\u001b[22m\u001b[22m\n",
      " [2] \u001b[1minclude_from_node1\u001b[22m\u001b[22m\u001b[1m(\u001b[22m\u001b[22m::String\u001b[1m)\u001b[22m\u001b[22m at \u001b[1m./loading.jl:569\u001b[22m\u001b[22m\n",
      " [3] \u001b[1minclude\u001b[22m\u001b[22m\u001b[1m(\u001b[22m\u001b[22m::String\u001b[1m)\u001b[22m\u001b[22m at \u001b[1m./sysimg.jl:14\u001b[22m\u001b[22m\n",
      " [4] \u001b[1manonymous\u001b[22m\u001b[22m at \u001b[1m./<missing>:2\u001b[22m\u001b[22m\n",
      "while loading /home/jordan/.julia/v0.6/GLPK/src/GLPK.jl, in expression starting on line 198\n"
     ]
    },
    {
     "ename": "LoadError",
     "evalue": "LoadError: LoadError: \u001b[91mFailed to precompile GLPK to /home/jordan/.julia/lib/v0.6/GLPK.ji.\u001b[39m\nwhile loading /home/jordan/.julia/v0.6/GLPKMathProgInterface/src/GLPKInterfaceBase.jl, in expression starting on line 4\nwhile loading /home/jordan/.julia/v0.6/GLPKMathProgInterface/src/GLPKMathProgInterface.jl, in expression starting on line 9",
     "output_type": "error",
     "traceback": [
      "LoadError: LoadError: \u001b[91mFailed to precompile GLPK to /home/jordan/.julia/lib/v0.6/GLPK.ji.\u001b[39m\nwhile loading /home/jordan/.julia/v0.6/GLPKMathProgInterface/src/GLPKInterfaceBase.jl, in expression starting on line 4\nwhile loading /home/jordan/.julia/v0.6/GLPKMathProgInterface/src/GLPKMathProgInterface.jl, in expression starting on line 9",
      "",
      "Stacktrace:",
      " [1] \u001b[1mcompilecache\u001b[22m\u001b[22m\u001b[1m(\u001b[22m\u001b[22m::String\u001b[1m)\u001b[22m\u001b[22m at \u001b[1m./loading.jl:703\u001b[22m\u001b[22m",
      " [2] \u001b[1m_require\u001b[22m\u001b[22m\u001b[1m(\u001b[22m\u001b[22m::Symbol\u001b[1m)\u001b[22m\u001b[22m at \u001b[1m./loading.jl:490\u001b[22m\u001b[22m",
      " [3] \u001b[1mrequire\u001b[22m\u001b[22m\u001b[1m(\u001b[22m\u001b[22m::Symbol\u001b[1m)\u001b[22m\u001b[22m at \u001b[1m./loading.jl:398\u001b[22m\u001b[22m",
      " [4] \u001b[1minclude_from_node1\u001b[22m\u001b[22m\u001b[1m(\u001b[22m\u001b[22m::String\u001b[1m)\u001b[22m\u001b[22m at \u001b[1m./loading.jl:569\u001b[22m\u001b[22m",
      " [5] \u001b[1minclude\u001b[22m\u001b[22m\u001b[1m(\u001b[22m\u001b[22m::String\u001b[1m)\u001b[22m\u001b[22m at \u001b[1m./sysimg.jl:14\u001b[22m\u001b[22m",
      " [6] \u001b[1minclude_from_node1\u001b[22m\u001b[22m\u001b[1m(\u001b[22m\u001b[22m::String\u001b[1m)\u001b[22m\u001b[22m at \u001b[1m./loading.jl:569\u001b[22m\u001b[22m",
      " [7] \u001b[1meval\u001b[22m\u001b[22m\u001b[1m(\u001b[22m\u001b[22m::Module, ::Any\u001b[1m)\u001b[22m\u001b[22m at \u001b[1m./boot.jl:235\u001b[22m\u001b[22m",
      " [8] \u001b[1m_require\u001b[22m\u001b[22m\u001b[1m(\u001b[22m\u001b[22m::Symbol\u001b[1m)\u001b[22m\u001b[22m at \u001b[1m./loading.jl:483\u001b[22m\u001b[22m",
      " [9] \u001b[1mrequire\u001b[22m\u001b[22m\u001b[1m(\u001b[22m\u001b[22m::Symbol\u001b[1m)\u001b[22m\u001b[22m at \u001b[1m./loading.jl:398\u001b[22m\u001b[22m",
      " [10] \u001b[1minclude_string\u001b[22m\u001b[22m\u001b[1m(\u001b[22m\u001b[22m::String, ::String\u001b[1m)\u001b[22m\u001b[22m at \u001b[1m./loading.jl:515\u001b[22m\u001b[22m"
     ]
    }
   ],
   "source": [
    "using JuMP\n",
    "using GLPKMathProgInterface\n",
    "\n",
    "sfMipModel = Model(solver = GLPKSolverMIP())\n",
    "\n",
    "@variable(sfMipModel, x[1:n] >=0)\n",
    "@variable(sfMipModel, y[1:p] >= 0, Int)\n",
    "\n",
    "@objective(sfMipModel, Min, sum(c[i] * x[i] for i in 1:n)+sum(d[i]*y[i] for i in 1:p))\n",
    "\n",
    "for i in 1:m\n",
    "    @constraint(sfMipModel, sum(A[i,j]*x[j] for j in 1:n)+ sum(B[i,j]*y[j] for j in 1:p) == f[i])\n",
    "end\n",
    "\n",
    "print(sfMipModel, \"\\n\")\n",
    "statusMipModel = solve(sfMipModel)\n",
    "print(\"Status of the problem is \", statusMipModel, \"\\n\")\n",
    "\n",
    "if statusMipModel == :Optimal\n",
    "    print(\"Optimal objective value = \", getObjectiveValue(sfMipModel), \"\\nOptimal x = \", getValue(x), \"\\nOptimal y = \", getValue(y))\n",
    "end"
   ]
  },
  {
   "cell_type": "code",
   "execution_count": null,
   "metadata": {
    "collapsed": true
   },
   "outputs": [],
   "source": []
  }
 ],
 "metadata": {
  "kernelspec": {
   "display_name": "Julia 0.6.0",
   "language": "julia",
   "name": "julia-0.6"
  },
  "language_info": {
   "file_extension": ".jl",
   "mimetype": "application/julia",
   "name": "julia",
   "version": "0.6.0"
  }
 },
 "nbformat": 4,
 "nbformat_minor": 2
}
